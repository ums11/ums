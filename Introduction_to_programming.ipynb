{
 "cells": [
  {
   "cell_type": "code",
   "execution_count": null,
   "metadata": {},
   "outputs": [
    {
     "data": {
      "text/plain": [
       "10.0"
      ]
     },
     "execution_count": 2,
     "metadata": {},
     "output_type": "execute_result"
    }
   ],
   "source": [
    "# This is a code cell, and this line is a comment, which is ignored by Python\n",
    "5+15/3"
   ]
  },
  {
   "cell_type": "markdown",
   "metadata": {},
   "source": [
    "This is a markdown cell in which you can write text. Markdown cells use Markdown formatting."
   ]
  },
  {
   "cell_type": "markdown",
   "metadata": {},
   "source": [
    "## About markdown cells\n",
    "Markdown cells use markdown formatting for formatting the text. This makes text more readable and visually structured without relying on complex formatting menus or software. Some common  Markdown formatting examples are:\n",
    "\n",
    "# Heading 1\n",
    "## Heading 2\n",
    "### Heading 3 etc.\n",
    "**Bold text**\n",
    "\n",
    "*Italic text*\n",
    "\n",
    "***Bold italic text***\n",
    "\n",
    "> Item in an enumeration\n",
    "\n",
    "When you are done editing, click on the checkmark at the top right of the cell. The text will now appear with Markdown formatting in your notebook."
   ]
  }
 ],
 "metadata": {
  "language_info": {
   "name": "python"
  }
 },
 "nbformat": 4,
 "nbformat_minor": 2
}
